{
 "cells": [
  {
   "cell_type": "markdown",
   "id": "e88dc1aa",
   "metadata": {
    "tags": []
   },
   "source": [
    "# Fourier Series Visualization Breakdown\n",
    "## Imports\n",
    "\n",
    "I am importing all necessary packages for this to function properly."
   ]
  },
  {
   "cell_type": "code",
   "execution_count": 1,
   "id": "1a5ffa45-c003-46ea-a95b-d6c3ace66825",
   "metadata": {},
   "outputs": [],
   "source": [
    "%matplotlib tk\n",
    "import matplotlib.pyplot as plt\n",
    "import matplotlib.animation as animate\n",
    "import numpy as np\n",
    "import cv2 as cv\n",
    "from scipy import integrate\n",
    "from numpy import pi"
   ]
  },
  {
   "cell_type": "markdown",
   "id": "83757d55",
   "metadata": {
    "tags": []
   },
   "source": [
    "## User Inputs\n",
    "\n",
    "Here we have user inputs that will affect the speed, length, and percision of the animation\n",
    "\n",
    "    T - The period of the animation: How long it will take to complete the animation\n",
    "    N - The order of the Fourier series used to approximate the input (the higher the better)\n",
    "    FPS - How many frames each second of the animation will contain"
   ]
  },
  {
   "cell_type": "code",
   "execution_count": 2,
   "id": "74dc1123-88b1-457d-bf84-264053d8e72b",
   "metadata": {},
   "outputs": [],
   "source": [
    "## User Inputs ##\n",
    "T = 20  # period\n",
    "N = 4  # order\n",
    "FPS = 60  # fps of video"
   ]
  },
  {
   "cell_type": "markdown",
   "id": "158977e1",
   "metadata": {},
   "source": [
    "## Image Conversion\n",
    "\n",
    "Here we are converting the input image to black and white and then using that to get the outline of the input. Once this is done, the console will output \"Image processed\". If you download this and are trying it out yourself, replace 'woman.jpg' with the image you are trying to create the animation of! (Make sure they're in the same file path)"
   ]
  },
  {
   "cell_type": "code",
   "execution_count": 3,
   "id": "e17935f1-7f74-43a7-aef8-11532b90f76e",
   "metadata": {},
   "outputs": [
    {
     "name": "stdout",
     "output_type": "stream",
     "text": [
      "Image processed\n"
     ]
    }
   ],
   "source": [
    "## Converts Image to grayscale and provides xlist and ylist ##\n",
    "# Converting into grayscale\n",
    "im = cv.imread('woman.jpg')\n",
    "imgray = cv.cvtColor(im, cv.COLOR_BGR2GRAY)\n",
    "ret, thresh = cv.threshold(imgray, 127, 255, 0)\n",
    "contours, hierarchy = cv.findContours(thresh, cv.RETR_TREE, cv.CHAIN_APPROX_SIMPLE)\n",
    "cnt = 0\n",
    "for i in range(len(contours)):\n",
    "    if len(contours[i]) > len(contours[cnt]):\n",
    "        cnt = i\n",
    "print(\"Image processed\")"
   ]
  },
  {
   "cell_type": "markdown",
   "id": "7546a3a3",
   "metadata": {},
   "source": [
    "Now, we are splitting the list of points defining the outline of the image into x and y components and recentering the image at (0, 0). Finally, we define x(t) and y(t). This is because this image is defined discretely through the array of points in xlist and ylist, or x[n] and y[n], but through interpolation, we are able to have a continuous function for x(t) and y(t) where the values  are along the lines connecting the points of x[n] and y[n]."
   ]
  },
  {
   "cell_type": "code",
   "execution_count": 4,
   "id": "30f84a61-393b-4136-9fa2-4b3a4035bf69",
   "metadata": {},
   "outputs": [],
   "source": [
    "# Gets contour into x and y components\n",
    "xlist = np.array(contours[cnt][:, :, 0]).flatten()\n",
    "ylist = -np.array(contours[cnt][:, :, 1]).flatten()\n",
    "\n",
    "# Centers image at (0, 0)\n",
    "xlist = xlist - (np.max(xlist) + np.min(xlist)) / 2\n",
    "ylist = ylist - (np.max(ylist) + np.min(ylist)) / 2\n",
    "\n",
    "## x[n], y[n] => x(t), y(t) ##\n",
    "# Allows for interpolation of contours for a continours function and aliasing (non-integer index, short period/low FPS)\n",
    "def x(t):\n",
    "    n = t / T * len(xlist)\n",
    "    return np.interp(n, range(len(xlist)), xlist, period=len(xlist))\n",
    "\n",
    "\n",
    "def y(t):\n",
    "    n = t / T * len(ylist)\n",
    "    return np.interp(n, range(len(ylist)), ylist, period=len(xlist))"
   ]
  },
  {
   "cell_type": "markdown",
   "id": "aa51ca23",
   "metadata": {},
   "source": [
    "## Plotting the Real Image\n",
    "\n",
    "Now, we get on to the plotting. In order to animate the dot along the real plot of f(t), the function of the contour described by x(t) and y(t), we need to find which descrete values of f(t) we need in order to create the frames. To do this, an array for the values of t was created from 0 to T with an FPS amount of evenly spaced values between each integer. Since f(t) outputs two real number quantities for x and y coordinates, I decided to map the y coordinates to the complex number line which retains the image in the complex plane, but allows for one output for f(t) allowing f(t) to be approximated with one Fourier series.\n",
    "\n",
    "$$\n",
    "    "
   ]
  },
  {
   "cell_type": "code",
   "execution_count": 5,
   "id": "e149f797-3c58-44b1-9de5-8a77f0de882e",
   "metadata": {},
   "outputs": [],
   "source": [
    "## f[n] => f(t) ##\n",
    "# Creating f[n] as a complex exponentional\n",
    "f_n = xlist + 1j * ylist\n",
    "\n",
    "# Allows for interpolation of contours for a continours function and aliasing (non-integer index, short period/low FPS)\n",
    "def f(t):\n",
    "    n = t / T * len(xlist)\n",
    "    return np.interp(n, range(len(xlist)), f_n, period=len(xlist))\n",
    "\n",
    "## Plotting Real Image ##\n",
    "# Creates common frames\n",
    "time = np.linspace(0, T, T * FPS)"
   ]
  },
  {
   "cell_type": "markdown",
   "id": "393c387e",
   "metadata": {},
   "source": [
    "Now, the first figure, or window, is created that will contain a 3d plot of the contours with an dot animating which point it is along during that current moment in time. The function used to create this animation will update the location of the dot on the contours at time t."
   ]
  },
  {
   "cell_type": "code",
   "execution_count": 6,
   "id": "58c35340",
   "metadata": {},
   "outputs": [],
   "source": [
    "# Create figure and first subplot\n",
    "fig1 = plt.figure(1)\n",
    "\n",
    "# Plots image and time marker\n",
    "ax1 = fig1.add_subplot(111, projection = '3d')\n",
    "ax1.plot(x(time), y(time), time)\n",
    "drawn_real_point = ax1.plot(\n",
    "    [x(0)], [y(0)], [0], color=(1, 49 / 255, 49 / 255, 0.83), marker=\".\"\n",
    ")[0]\n",
    "\n",
    "# Shows f(t), the real map of the contour over time\n",
    "def update_real_point(t):\n",
    "    drawn_real_point.set_data_3d(x(t), y(t), t)"
   ]
  },
  {
   "cell_type": "markdown",
   "id": "51f228db",
   "metadata": {},
   "source": [
    "## Fourier Series Coefficients\n",
    "\n",
    "In order to estimate f(t) via a Fourier Series, we must find the fourier coefficients for f(t), which is the average value of the amplitude and phase for frequency k for one period of f(t), or\n",
    "\n",
    "$$\n",
    "    c_k = \\frac{1}{T}\\int_{0}^{T}f(t)e^{-j\\frac{{2\\pi}kt}{T}}dt\n",
    "$$\n",
    "\n",
    "Coefficients are added for each discrete frequency, k, from -N to N, where k is the frequency. The frequency is based off of the period, instead of just seconds, so if something has a period of 4, k = 1 would be 1/4 Hz or 1 revolution per period."
   ]
  },
  {
   "cell_type": "code",
   "execution_count": null,
   "id": "70628674-1a42-40f2-b513-81610f1b1683",
   "metadata": {},
   "outputs": [
    {
     "name": "stdout",
     "output_type": "stream",
     "text": [
      "0.0% Done with coefficients...\n",
      "12.5% Done with coefficients...\n",
      "25.0% Done with coefficients...\n",
      "37.5% Done with coefficients...\n",
      "50.0% Done with coefficients...\n",
      "62.5% Done with coefficients...\n",
      "75.0% Done with coefficients...\n",
      "87.5% Done with coefficients...\n",
      "100.0% Done with coefficients...\n"
     ]
    }
   ],
   "source": [
    "coefficients = []  # array to store coefficients\n",
    "for n in range(-N, N + 1):  # orders in c₀, c₁, c₋₁, ... cₙ, c_₋ₙ\n",
    "    integrand = lambda t: f(t) * np.exp(-1j * (2 * pi / T) * t * n)\n",
    "    coefficients.append(\n",
    "        (1 / T) * integrate.quad_vec(integrand, 0, T, limit=500, full_output=True)[0]\n",
    "    )\n",
    "    # def integrand_real(t): return np.real(f(t) * np.exp(-1j*(2*pi/T)*t*n))\n",
    "    # def integrand_imag(t): return np.imag(f(t) * np.exp(-1j*(2*pi/T)*t*n))\n",
    "    # coefficients.append(\n",
    "    #     (1/T)*integrate.quad(integrand_real, 0, T, limit=100, full_output=True)[0] +\n",
    "    #     (1j/T)*integrate.quad(integrand_imag, 0, T, limit=100, full_output=True)[0])\n",
    "    print(\n",
    "        str(round(((len(coefficients) - 1) / (2 * N)) * 100, 3))\n",
    "        + \"% Done with coefficients...\"\n",
    "    )"
   ]
  },
  {
   "cell_type": "markdown",
   "id": "0880586d-920b-40c5-a43d-bc862f13d1b8",
   "metadata": {},
   "source": [
    "## Plotting the complex sinusoids used to approximate f(t)\n",
    "\n",
    "In order to plot Re{approximation{f(t)}} and Im{approximation{f(t)}}} as their component sinusoids on to planes, another figure was created, though with two subplots this time. The amplitudes and phase-shifts from the fourier coefficients array were used to define the sinusoidal components of f(t). The more red and opaque the sinusoid, the higher the frequency, and the more blue and transparent, the lower the frequency. Finally, one blue sinusoid is drawn as the sum, or the Fourier series approximation, of these sinusoids. These do not seem to resemble f(t), but that is because it describes the x-component of the approximation over time on the left and the y-component on the right. Since f(t) is now described as a single complex quantity, the x-component you see is Re{approximation{f(t)}} and the y-component is Im{approximation{f(t)}}}."
   ]
  },
  {
   "cell_type": "code",
   "execution_count": 8,
   "id": "0511f962-2c55-43f4-b78d-6c2e514c4236",
   "metadata": {},
   "outputs": [],
   "source": [
    "## f(t) => Re{f(t)}, Im{f(t)}\n",
    "# Plots for X and Y components of Fourier series are made\n",
    "fig2 = plt.figure(2)\n",
    "ax2 = fig2.add_subplot(121)\n",
    "ax3 = fig2.add_subplot(122)\n",
    "\n",
    "# Creates X components, Y components, and resultant sums\n",
    "fs_xlist, fs_ylist = [], []\n",
    "sum_x, sum_y = 0, 0\n",
    "for n in range(-N, N + 1):\n",
    "    r = np.absolute(coefficients[n + N])\n",
    "    phi = np.angle(coefficients[n + N])\n",
    "    sum_x += r * np.cos((2 * pi * n / T) * time + phi)\n",
    "    sum_y += r * np.sin((2 * pi * n / T) * time + phi)\n",
    "    fs_xlist.append(\n",
    "        ax2.plot(\n",
    "            time,\n",
    "            r * np.cos((2 * pi * n / T) * time + phi),\n",
    "            color=((np.abs(n / N), 0, 1 - np.abs(n / N),.25 + 0.25 * np.abs(n / N))),\n",
    "        )[0]\n",
    "    )\n",
    "    fs_ylist.append(\n",
    "        ax3.plot(\n",
    "            time,\n",
    "            r * np.sin((2 * pi * n / T) * time + phi),\n",
    "            color=((np.abs(n / N), 0, 1 - np.abs(n / N), .25 + 0.25 * np.abs(n / N))),\n",
    "        )[0]\n",
    "    )"
   ]
  },
  {
   "cell_type": "markdown",
   "id": "342f8756-408c-41b4-b010-1f773e88d5b8",
   "metadata": {},
   "source": [
    "On top of the sinusoids, a vertical line is drawn to signify the current x and y component of the approximation for f(t)."
   ]
  },
  {
   "cell_type": "code",
   "execution_count": 8,
   "id": "c39ef7c6-2287-4c35-a188-9301e566f4d5",
   "metadata": {},
   "outputs": [
    {
     "data": {
      "text/plain": [
       "[]"
      ]
     },
     "execution_count": 8,
     "metadata": {},
     "output_type": "execute_result"
    }
   ],
   "source": [
    "# Creates vertical line to track F⁻¹{F{f(t)}} (Approximation of f(t) via our Fourier Series)\n",
    "time_line_1, time_line_2 = ax2.axvline(x=0), ax3.axvline(x=0)\n",
    "\n",
    "\n",
    "def update_time_line(t):\n",
    "    time_line_1.set_xdata([t, t])\n",
    "    time_line_2.set_xdata([t, t])\n",
    "    return time_line_1, time_line_2\n",
    "\n",
    "\n",
    "# Sets components' view\n",
    "ax2.plot(time, sum_x)\n",
    "ax2.grid(False)\n",
    "ax2.set_xticks([])\n",
    "ax2.set_yticks([])\n",
    "\n",
    "ax3.plot(time, sum_y)\n",
    "ax3.grid(False)\n",
    "ax3.set_xticks([])\n",
    "ax3.set_yticks([])"
   ]
  },
  {
   "cell_type": "markdown",
   "id": "7bc7d9b5-f648-46f0-bf7a-14468615a31b",
   "metadata": {},
   "source": [
    "## Approximating f(t) via a Fourier Series\n",
    "\n",
    "Now, the fun part. Since we have the coefficients, we can dive into creating the animation of the approximation. To start, we create 3 more figures: one to demonstrate the output overlayed by the Fourier series, one to show only the output of the Fourier series, and one to map the error of the approximation versus the real definition of the contours. Along with this, an array containing the spirals, or complex sinusoids, drawn for one period is created as well as an array containing the lines to more clearly show the current value of each complex sinusoid as from a bird's eye view, it looks like only circles. Moreover, other objects are created to track the output point of the Fourier series on both graphs, as well as to store the error line. As with the x-component and y-components drawn above, the more red and opaque the sinusoid, the higher the frequency, and the more blue and transparent, the lower the frequency."
   ]
  },
  {
   "cell_type": "code",
   "execution_count": 9,
   "id": "038d336c-6573-49b1-b14f-fa42afb454d3",
   "metadata": {
    "tags": []
   },
   "outputs": [],
   "source": [
    "## Approximation of f(t) via our Fourier Series\n",
    "fig5 = plt.figure(5)\n",
    "ax5 = fig5.add_subplot(121, projection = '3d')\n",
    "spirals = [\n",
    "    ax5.plot(\n",
    "        [],\n",
    "        [],\n",
    "        [],\n",
    "        linestyle=\"solid\",\n",
    "        color=(\n",
    "            (0.5 * np.abs(i / N), 0, 1 - 0.5 * np.abs(i / N), .25 + 0.25 * np.abs(i / N))\n",
    "        ),\n",
    "        linewidth=1 - 0.35 * i / N,\n",
    "    )[0]\n",
    "    for i in range(2 * N + 1)\n",
    "]  # stores spirals drawn each frame\n",
    "lines = [\n",
    "    ax5.plot(\n",
    "        [],\n",
    "        [],\n",
    "        [],\n",
    "        linestyle=\"solid\",\n",
    "        color=((0.5 * np.abs(i / N), 0, 1 - 0.5 * np.abs(i / N), .25 + 0.25 * np.abs(i / N))),\n",
    "        linewidth=1 - 0.35 * i / N,\n",
    "    )[0]\n",
    "    for i in range(2 * N + 1)\n",
    "]  # stores lines drawn each frame\n",
    "drawn_fs_point = ax5.plot([], [], [], color=(0, 1, 0, 0.5), marker=\".\")[\n",
    "    0\n",
    "]  # Draws current point\n",
    "drawn_x, drawn_y, drawn_z = [], [], []  # Stores points of drawn points over time\n",
    "drawn_fs = ax5.plot([], [], [], color=(0, 0, 0, 0.5))[\n",
    "    0\n",
    "]  # Plot of drawn points over time\n",
    "\n",
    "ax6 = fig5.add_subplot(122, projection = '3d')  # Creates plot for only Fourier Series Approximation\n",
    "fs_only = ax6.plot([], [], [])[0]  # Stores points of Fourier\n",
    "fs_only_point = ax6.plot([], [], [], color=(0, 1, 0, 0.5), marker=\".\")[\n",
    "    0\n",
    "]  # Draws only current point\n",
    "\n",
    "# Error Plotting Prep\n",
    "current_x, current_y, = 0, 0\n",
    "fig4 = plt.figure(4)\n",
    "ax4 = fig4.add_subplot(111)\n",
    "ax4.set_xlim(-T / 2, T + T / 2)\n",
    "ax4.set_ylim(-1, 5)\n",
    "error = []\n",
    "error_plot = ax4.plot([], [])[0]\n",
    "zero_line = ax4.plot(\n",
    "    time, np.zeros(len(time)), color=(0, 0, 0, 0.5), linestyle=\"dashed\"  # 0% error line\n",
    ")\n",
    "\n",
    "one_line = ax4.plot(\n",
    "    time, np.ones(len(time)), color=(1, 0, 0, 0.5), linestyle=\"dashed\"\n",
    ")  # 100% error line"
   ]
  },
  {
   "cell_type": "markdown",
   "id": "8858ecbd-e99a-4f88-8ad4-78bb32ebfda7",
   "metadata": {},
   "source": [
    "The definition of approximating a function via a Fourier series is\n",
    "$$\n",
    "    f(t) = \\lim_{N\\to\\infty}\\sum_{k= -N}^{N}c_ke^{-j\\frac{{2\\pi}kt}{T}}\n",
    "$$\n",
    "Therefore, the approximation will never be perfect, but since the order is N, so the higher the order, the closer the approximation. Below, for every frame, the location of each sinusoid is updated, as each sinusoid shifts between frames, the sum of their individual outputs maps to a new point. At the very end of the series, the sinusoid of frequency -N, the last one, is the last to be summed in the series, so the tip of the output of that sinusoid is the Fourier series approximation of f(t). The reason k = -N is the last sinusoid to be drawn is because the sinusoids are drawn from frequency 0 to 1 to -1 to 2 to -2 ... to N to -N. This is because sinusoids rotating in opposite directions with the same frequency will be more likely to keep the visualization of the approximation within the frame."
   ]
  },
  {
   "cell_type": "code",
   "execution_count": 10,
   "id": "6f08de04-3af3-4b82-a2cf-63c342a86bc7",
   "metadata": {},
   "outputs": [],
   "source": [
    "# Draws Fourier Series, Approximation, and Error\n",
    "def draw_f(t):\n",
    "    current_x, current_y = np.real(coefficients[N]), np.real(\n",
    "        coefficients[N]\n",
    "    )  # Offset of c₀\n",
    "    # Draws spirals, lines, drawing, current point, and error in each frame\n",
    "    for n in range(1, N + 1):\n",
    "        current = coefficients[N + n] * np.exp(\n",
    "            1j * (2 * pi / T) * t * n\n",
    "        )  # calculates current term\n",
    "        r = np.absolute(current)  # amplitude of complex sinusoid (spiral)\n",
    "        phi = np.angle(current)  # phase shift of complex sinusoid (spiral)\n",
    "        # plots entire period of complex sinusoid\n",
    "        spirals[2 * n - 1].set_data_3d(\n",
    "            current_x + r * np.cos((2 * pi * n / T) * time + phi),\n",
    "            current_y + r * np.sin((2 * pi * n / T) * time + phi),\n",
    "            time,\n",
    "        )\n",
    "        # plots line only at the current time\n",
    "        lines[2 * n - 1].set_data_3d(\n",
    "            [current_x, current_x + np.real(current)],\n",
    "            [current_y, current_y + np.imag(current)],\n",
    "            [t, t],\n",
    "        )\n",
    "        current_x, current_y = current_x + np.real(current), current_y + np.imag(\n",
    "            current\n",
    "        )\n",
    "        current = coefficients[N - n] * np.exp(-1j * (2 * pi / T) * t * n)\n",
    "        r = np.absolute(current)\n",
    "        phi = np.angle(current)\n",
    "        spirals[2 * n].set_data_3d(\n",
    "            current_x + r * np.cos((2 * pi * -n / T) * time + phi),\n",
    "            current_y + r * np.sin((2 * pi * -n / T) * time + phi),\n",
    "            time,\n",
    "        )\n",
    "        lines[2 * n].set_data_3d(\n",
    "            [current_x, current_x + np.real(current)],\n",
    "            [current_y, current_y + np.imag(current)],\n",
    "            [t, t],\n",
    "        )\n",
    "        current_x, current_y = current_x + np.real(current), current_y + np.imag(\n",
    "            current\n",
    "        )\n",
    "    # After the final point is calculated (the sum of the Fourier series approximation at time t)\n",
    "    # the image is traced and the current point is drawn as well as the\n",
    "    drawn_fs_point.set_data_3d(current_x, current_y, t)\n",
    "    fs_only_point.set_data_3d(current_x, current_y, t)\n",
    "    drawn_x.append(current_x)\n",
    "    drawn_y.append(current_y)\n",
    "    drawn_z.append(t)\n",
    "    drawn_fs.set_data_3d(drawn_x, drawn_y, drawn_z)\n",
    "    fs_only.set_data_3d(drawn_x, drawn_y, drawn_z)\n",
    "    return ax5\n",
    "\n",
    "def draw_error(t):\n",
    "    error.append(np.abs((f(t) - (current_x + 1j * current_y)) / f(t)))\n",
    "    error_plot.set_data(drawn_z, error)\n",
    "    return error_plot"
   ]
  },
  {
   "cell_type": "markdown",
   "id": "3f983344-3dc9-4704-898d-6c123152b76a",
   "metadata": {},
   "source": [
    "## Graph Tidying\n",
    "\n",
    "Finally, the graphs are tidied up: all the axes and tick marks are removed, windows are properly sized, gridlines are removed, the 3d graphs are spawned with a bird's eye view to clearly show the image and \"circles\" the complex sinusoids compose on the x-y plane, and labels are added to the graphs."
   ]
  },
  {
   "cell_type": "code",
   "execution_count": 11,
   "id": "820d44b8-be6a-43cd-9c0f-ab34889756c9",
   "metadata": {},
   "outputs": [
    {
     "data": {
      "text/plain": [
       "Text(0.5, 0, 'Time (sec)')"
      ]
     },
     "execution_count": 11,
     "metadata": {},
     "output_type": "execute_result"
    }
   ],
   "source": [
    "# Graph views are set for FS App, FS Drawing, and Error\n",
    "ax1.view_init(90, -90)\n",
    "ax1.grid(False)\n",
    "ax1.set_xticks([])\n",
    "ax1.set_yticks([])\n",
    "ax1.set_zticks([])\n",
    "\n",
    "ax5.view_init(90, -90)\n",
    "ax5.axes.set_xlim3d(left=-max(xlist) - 200, right=max(xlist) + 200)\n",
    "ax5.axes.set_ylim3d(bottom=-max(ylist) - 200, top=max(ylist) + 200)\n",
    "ax5.axes.set_zlim3d(bottom=-T / 2, top=T + T / 2)\n",
    "\n",
    "\n",
    "ax6.view_init(90, -90)\n",
    "ax6.axes.set_xlim3d(left=np.min(xlist) - 200, right=np.max(xlist) + 200)\n",
    "ax6.axes.set_ylim3d(bottom=np.min(ylist) - 200, top=np.max(ylist) + 200)\n",
    "ax6.axes.set_zlim3d(bottom=-T / 2, top=T + T / 2)\n",
    "\n",
    "ax4.grid(False)\n",
    "ax4.set_xticks([])\n",
    "ax4.set_yticks([])\n",
    "\n",
    "ax5.grid(False)\n",
    "ax5.set_xticks([])\n",
    "ax5.set_yticks([])\n",
    "ax5.set_zticks([])\n",
    "\n",
    "ax6.grid(False)\n",
    "ax6.set_xticks([])\n",
    "ax6.set_yticks([])\n",
    "ax6.set_zticks([])\n",
    "\n",
    "## Plot tidying ##\n",
    "# Shows all plots\n",
    "ax1.set_facecolor((0, 0, 0, 0))\n",
    "ax2.set_facecolor((0, 0, 0, 0))\n",
    "ax3.set_facecolor((0, 0, 0, 0))\n",
    "ax4.set_facecolor((0, 0, 0, 0))\n",
    "ax5.set_facecolor((0, 0, 0, 0))\n",
    "ax6.set_facecolor((0, 0, 0, 0))\n",
    "\n",
    "ax1.set_title(\"Contour of Original Image\")\n",
    "ax1.set_xlabel(\"x position of point\")\n",
    "ax1.set_ylabel(\"y position of point\")\n",
    "ax1.set_zlabel(\"Time (sec)\")\n",
    "\n",
    "ax2.set_title(\"X-components of Fourier Series\")\n",
    "ax2.set_xlabel(\"Time (sec)\")\n",
    "ax2.set_ylabel(\"Amplitude of X Component\")\n",
    "\n",
    "ax3.set_title(\"Y-components of Fourier Series\")\n",
    "ax3.set_xlabel(\"Time (sec)\")\n",
    "ax3.set_ylabel(\"Amplitude of Y Component\")\n",
    "\n",
    "ax4.set_title(\"%\" + \"Error of Fourier Series vs Original\")\n",
    "ax5.set_xlabel(\"Time (sec)\")\n",
    "ax5.set_ylabel(\"%\" + \"Error (Red = 100%, Grey = 0%)\")\n",
    "\n",
    "ax5.set_title(\"Fourier Series Approximation of Contours\")\n",
    "ax5.set_xlabel(\"x axis\")\n",
    "ax5.set_ylabel(\"y axis\")\n",
    "ax5.set_zlabel(\"Time (sec)\")\n",
    "\n",
    "ax6.set_title(\"Output of Fourier Series\")\n",
    "ax6.set_xlabel(\"x position of point\")\n",
    "ax6.set_ylabel(\"y position of point\")\n",
    "ax6.set_zlabel(\"Time (sec)\")"
   ]
  },
  {
   "cell_type": "markdown",
   "id": "bb5c9ff3-a466-46f5-8152-01ef14a92ec8",
   "metadata": {},
   "source": [
    "## Plotting\n",
    "Now, function animation objects are constructed to update each frame according to time t. When the plot command is run, the graphs will appear animated as it updates with each frame."
   ]
  },
  {
   "cell_type": "code",
   "execution_count": 12,
   "id": "2f032afb-604a-465c-b85a-2223f8403fb8",
   "metadata": {},
   "outputs": [],
   "source": [
    "## Animation\n",
    "# Create animation function ojects\n",
    "real_animation = animate.FuncAnimation(fig1, update_real_point, frames=time)\n",
    "component_animation = animate.FuncAnimation(fig2, update_time_line, frames=time)\n",
    "fs_animation = animate.FuncAnimation(fig5, draw_f, frames=time)\n",
    "error_animation = animate.FuncAnimation(fig4, draw_error, frames=time)\n",
    "\n",
    "plt.show()"
   ]
  }
 ],
 "metadata": {
  "kernelspec": {
   "display_name": "Python 3 (ipykernel)",
   "language": "python",
   "name": "python3"
  },
  "language_info": {
   "codemirror_mode": {
    "name": "ipython",
    "version": 3
   },
   "file_extension": ".py",
   "mimetype": "text/x-python",
   "name": "python",
   "nbconvert_exporter": "python",
   "pygments_lexer": "ipython3",
   "version": "3.8.10"
  }
 },
 "nbformat": 4,
 "nbformat_minor": 5
}
